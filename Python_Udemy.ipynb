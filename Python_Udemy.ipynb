{
  "nbformat": 4,
  "nbformat_minor": 0,
  "metadata": {
    "colab": {
      "name": "Python Udemy.ipynb",
      "provenance": [],
      "authorship_tag": "ABX9TyOGVS2Mys734Wq6I/afl8LF",
      "include_colab_link": true
    },
    "kernelspec": {
      "name": "python3",
      "display_name": "Python 3"
    },
    "language_info": {
      "name": "python"
    }
  },
  "cells": [
    {
      "cell_type": "markdown",
      "metadata": {
        "id": "view-in-github",
        "colab_type": "text"
      },
      "source": [
        "<a href=\"https://colab.research.google.com/github/imranshs08/Python-Edureka/blob/main/Python_Udemy.ipynb\" target=\"_parent\"><img src=\"https://colab.research.google.com/assets/colab-badge.svg\" alt=\"Open In Colab\"/></a>"
      ]
    },
    {
      "cell_type": "markdown",
      "source": [
        "Python Lecture :\n",
        "\n",
        "https://tcsglobal.udemy.com/course/the-modern-python3-bootcamp/learn/lecture/9166924#overview"
      ],
      "metadata": {
        "id": "GGkFSQTfR9dx"
      }
    },
    {
      "cell_type": "code",
      "source": [
        "x = 5\n",
        "\n",
        "print(5)"
      ],
      "metadata": {
        "id": "OIdziQtISBw4"
      },
      "execution_count": null,
      "outputs": []
    },
    {
      "cell_type": "markdown",
      "source": [
        "Command Lines\n",
        "\n",
        "http://python.slides.com/colt/web-scraping#/1/0/2"
      ],
      "metadata": {
        "id": "BHj1v7AuUfU3"
      }
    },
    {
      "cell_type": "code",
      "source": [
        "print(x)"
      ],
      "metadata": {
        "colab": {
          "base_uri": "https://localhost:8080/"
        },
        "id": "UnObitHVUiAA",
        "outputId": "c72fb958-afb4-4f74-d4c6-3d41bc8fbb84"
      },
      "execution_count": null,
      "outputs": [
        {
          "output_type": "stream",
          "name": "stdout",
          "text": [
            "5\n"
          ]
        }
      ]
    },
    {
      "cell_type": "markdown",
      "source": [
        "Topic : Numbers and Maths \n",
        "\n",
        "Slides\n",
        "\n",
        "http://python.slides.com/colt/oop-21"
      ],
      "metadata": {
        "id": "YxndZxoXYOKu"
      }
    },
    {
      "cell_type": "code",
      "source": [
        "# 1+1\n",
        "1+1.0"
      ],
      "metadata": {
        "colab": {
          "base_uri": "https://localhost:8080/"
        },
        "id": "qwh_PE0EYWfi",
        "outputId": "512ea8df-2698-4f3d-c44b-0d9a95334d81"
      },
      "execution_count": null,
      "outputs": [
        {
          "output_type": "execute_result",
          "data": {
            "text/plain": [
              "2.0"
            ]
          },
          "metadata": {},
          "execution_count": 7
        }
      ]
    },
    {
      "cell_type": "markdown",
      "source": [
        "Date : 11-07-2022 Start from Lecture 37 : \n",
        "\n",
        "![image.png](data:image/png;base64,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)\n",
        "\n"
      ],
      "metadata": {
        "id": "AuU65gMpZTqq"
      }
    },
    {
      "cell_type": "code",
      "source": [
        ""
      ],
      "metadata": {
        "id": "3JYUJcbbaxxS"
      },
      "execution_count": null,
      "outputs": []
    },
    {
      "cell_type": "code",
      "source": [
        ""
      ],
      "metadata": {
        "id": "ATCLp-w5a2rw"
      },
      "execution_count": null,
      "outputs": []
    }
  ]
}